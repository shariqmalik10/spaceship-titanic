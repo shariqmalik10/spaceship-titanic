{
 "cells": [
  {
   "cell_type": "markdown",
   "metadata": {},
   "source": [
    "# Introduction \n",
    "This is a notebook for developing model pipeline for the <a href=\"https://www.kaggle.com/competitions/spaceship-titanic/data?select=test.csv\">Spaceship Titanic</a> competition."
   ]
  },
  {
   "cell_type": "markdown",
   "metadata": {},
   "source": [
    "## Library Importing"
   ]
  },
  {
   "cell_type": "code",
   "execution_count": 10,
   "metadata": {},
   "outputs": [],
   "source": [
    "import numpy as np\n",
    "import pandas as pd\n",
    "import matplotlib.pyplot as plt\n",
    "from sklearn.preprocessing import OneHotEncoder\n",
    "from scipy.stats import reciprocal\n",
    "\n",
    "import category_encoders as ce\n",
    "\n",
    "from xgboost import XGBClassifier\n",
    "from sklearn.naive_bayes import GaussianNB\n",
    "\n",
    "import scipy.stats as stats\n",
    "\n",
    "from sklearn.base import BaseEstimator, TransformerMixin\n",
    "\n",
    "from sklearn.pipeline import Pipeline\n",
    "\n",
    "import joblib\n",
    "from sklearn.model_selection import GridSearchCV\n",
    "from sklearn.model_selection import RandomizedSearchCV\n",
    "\n",
    "from hyperopt import STATUS_OK, Trials, fmin, hp, tpe\n",
    "from sklearn.model_selection import KFold\n",
    "\n",
    "from sklearn.feature_selection import chi2\n",
    "from sklearn.feature_selection import SelectKBest\n",
    "from random import uniform"
   ]
  },
  {
   "cell_type": "markdown",
   "metadata": {},
   "source": [
    "## Training Dataset Pipeline"
   ]
  },
  {
   "cell_type": "code",
   "execution_count": 4,
   "metadata": {},
   "outputs": [],
   "source": [
    "# remove unnecessary columns\n",
    "class FeatureSelection(BaseEstimator, TransformerMixin):\n",
    "    def fit(self, X, y=None):\n",
    "        return self\n",
    "\n",
    "    def transform(self, X):\n",
    "        X[[\"deck\", \"num\", \"side\"]] = X[\"Cabin\"].str.split(\"/\", expand=True)\n",
    "        # handle HomePlanet null values\n",
    "        X = X.drop(columns=[\"Cabin\", \"Name\", \"PassengerId\"])\n",
    "\n",
    "        return X\n",
    "\n",
    "\n",
    "class NullHandler(BaseEstimator, TransformerMixin):\n",
    "    def fit(self, X, y=None):\n",
    "        return self\n",
    "\n",
    "    def transform(self, X):\n",
    "        # handle HomePlanet null values\n",
    "        modeVal = X[\"HomePlanet\"].value_counts().idxmax()\n",
    "        X[\"HomePlanet\"] = X[\"HomePlanet\"].fillna(modeVal)\n",
    "        # CryoSleep\n",
    "        modeVal_cs = X[\"CryoSleep\"].value_counts().idxmax()\n",
    "        X[\"CryoSleep\"] = X[\"CryoSleep\"].fillna(modeVal_cs)\n",
    "        # Destination\n",
    "        modeVal_dest = X[\"Destination\"].value_counts().idxmax()\n",
    "        X[\"Destination\"] = X[\"Destination\"].fillna(modeVal_dest)\n",
    "        # Age\n",
    "        median = X[\"Age\"].median()\n",
    "        X[\"Age\"] = X[\"Age\"].fillna(median)\n",
    "\n",
    "        modeVal_vip = X[\"VIP\"].value_counts().idxmax()\n",
    "        X[\"VIP\"] = X[\"VIP\"].fillna(modeVal_vip)\n",
    "\n",
    "        median_rs = X[\"RoomService\"].median()\n",
    "        X[\"RoomService\"] = X[\"RoomService\"].fillna(median_rs)\n",
    "\n",
    "        X[\"FoodCourt\"] = X[\"FoodCourt\"].fillna(X[\"FoodCourt\"].median())\n",
    "        X[\"ShoppingMall\"] = X[\"ShoppingMall\"].fillna(X[\"ShoppingMall\"].median())\n",
    "        X[\"Spa\"] = X[\"Spa\"].fillna(X[\"Spa\"].median())\n",
    "        X[\"VRDeck\"] = X[\"VRDeck\"].fillna(X[\"VRDeck\"].median())\n",
    "\n",
    "        print(\"Here\")\n",
    "        X[\"deck\"] = X[\"deck\"].fillna(X[\"deck\"].mode())\n",
    "        X[\"side\"] = X[\"side\"].fillna(X[\"side\"].mode())\n",
    "        median_value = X[\"num\"].fillna(-1).astype(int).median()\n",
    "        X[\"num\"] = X[\"num\"].fillna(-1).astype(int).replace(-1, median_value)\n",
    "        print(\"null handling done !\")\n",
    "\n",
    "        return X\n",
    "\n",
    "\n",
    "class EncodeCatVar(BaseEstimator, TransformerMixin):\n",
    "    def fit(self, X, y=None):\n",
    "        return self\n",
    "\n",
    "    def transform(self, X):\n",
    "        X = pd.get_dummies(\n",
    "            X, columns=[\"Destination\", \"HomePlanet\", \"side\", \"deck\"], dtype=\"int\"\n",
    "        )\n",
    "\n",
    "        X[\"CryoSleep\"] = X[\"CryoSleep\"].replace({True: 1, False: 0})\n",
    "        X[\"VIP\"] = X[\"VIP\"].replace({True: 1, False: 0})\n",
    "\n",
    "        return X"
   ]
  },
  {
   "cell_type": "code",
   "execution_count": 5,
   "metadata": {},
   "outputs": [],
   "source": [
    "best_feat = []\n",
    "\n",
    "\n",
    "# function to get the best features from chi square test\n",
    "def best_features(train_x, train_y):\n",
    "    # get the top 10 features by their chi square test\n",
    "    best_features = SelectKBest(score_func=chi2, k=10)\n",
    "    fit = best_features.fit(train_x, train_y)\n",
    "    feature_scores = pd.DataFrame(fit.scores_)\n",
    "    df_columns = pd.DataFrame(train_x.columns)\n",
    "    feature_scores = pd.concat([df_columns, feature_scores], axis=1)\n",
    "    feature_scores.columns = [\"Specs\", \"Score\"]\n",
    "    print(feature_scores.nlargest(20, \"Score\"))\n",
    "\n",
    "    yessir = feature_scores.nlargest(20, \"Score\")\n",
    "    opt_cols = yessir[\"Specs\"].tolist()\n",
    "\n",
    "    return opt_cols"
   ]
  },
  {
   "cell_type": "code",
   "execution_count": 18,
   "metadata": {},
   "outputs": [],
   "source": [
    "class ModelTraining(BaseEstimator, TransformerMixin):\n",
    "    def fit(self, X, y=None):\n",
    "        self.X_train, self.y_train = X.drop(columns=[\"Transported\"]), X[\"Transported\"]\n",
    "        self.y_train = self.y_train.replace({True: 1, False: 0})\n",
    "\n",
    "        self.opt_cols = best_features(self.X_train, self.y_train)\n",
    "        self.X_train_best = self.X_train.copy()\n",
    "        self.X_train_best = self.X_train_best[self.opt_cols]\n",
    "\n",
    "        self.model = GaussianNB()\n",
    "        # Fit the model\n",
    "        self.model.fit(self.X_train_best, self.y_train)\n",
    "\n",
    "        return self\n",
    "\n",
    "    def transform(self, X):\n",
    "        return self.model, self.X_train_best, self.y_train, self.opt_cols\n",
    "\n",
    "\n",
    "class HyperParamFineTuning(BaseEstimator, TransformerMixin):\n",
    "    def fit(self, X, y=None):\n",
    "        self.model, self.X_train_best, self.y_train, self.opt_cols = (\n",
    "            ModelTraining().fit_transform(X)\n",
    "        )\n",
    "        return self\n",
    "\n",
    "    def transform(self, X):\n",
    "        param_grid = {\"var_smoothing\": [1e-9, 1e-8, 1e-7, 1e-6, 1e-5]}\n",
    "\n",
    "        grid_search_xgb = GridSearchCV(self.model, param_grid, cv=5, scoring=\"roc_auc\")\n",
    "\n",
    "        # Fit the GridSearchCV object to the training data\n",
    "        grid_search_xgb.fit(self.X_train_best, self.y_train)\n",
    "\n",
    "        # Print the best set of hyperparameters and the corresponding score\n",
    "        print(\"Best set of hyperparameters: \", grid_search_xgb.best_params_)\n",
    "        print(\"Best score: \", grid_search_xgb.best_score_)\n",
    "\n",
    "        param_dist = {\"var_smoothing\": reciprocal(1e-9, 1e-1)}\n",
    "\n",
    "        # Create the XGBoost model object\n",
    "        model = GaussianNB()\n",
    "\n",
    "        # Create the RandomizedSearchCV object\n",
    "        random_search = RandomizedSearchCV(\n",
    "            model,\n",
    "            param_distributions=param_dist,\n",
    "            n_iter=10,\n",
    "            cv=5,\n",
    "            scoring=\"accuracy\",\n",
    "        )\n",
    "\n",
    "        # Fit the RandomizedSearchCV object to the training data\n",
    "        random_search.fit(self.X_train_best, self.y_train)\n",
    "\n",
    "        # Print the best set of hyperparameters and the corresponding score\n",
    "        print(\"Best set of hyperparameters: \", random_search.best_params_)\n",
    "        print(\"Best score: \", random_search.best_score_)\n",
    "\n",
    "        opt_search_param = (\n",
    "            random_search.best_params\n",
    "            if random_search.best_score_ > grid_search_xgb.best_score_\n",
    "            else grid_search_xgb.best_params_\n",
    "        )\n",
    "\n",
    "        model = GaussianNB(**opt_search_param)\n",
    "\n",
    "        # Fit the model\n",
    "        model.fit(self.X_train_best, self.y_train)\n",
    "\n",
    "        return model, self.opt_cols, self.X_train_best, self.y_train"
   ]
  },
  {
   "cell_type": "code",
   "execution_count": 7,
   "metadata": {},
   "outputs": [],
   "source": [
    "class BestFeatureSelector(BaseEstimator, TransformerMixin):\n",
    "    def fit(self, X, y=None):\n",
    "        return self\n",
    "\n",
    "    def transform(self, X, y=None):\n",
    "        return X[best_feat]"
   ]
  },
  {
   "cell_type": "code",
   "execution_count": 8,
   "metadata": {},
   "outputs": [],
   "source": [
    "train = pd.read_csv(\"data/train.csv\")"
   ]
  },
  {
   "cell_type": "code",
   "execution_count": 19,
   "metadata": {},
   "outputs": [
    {
     "name": "stdout",
     "output_type": "stream",
     "text": [
      "Here\n",
      "null handling done !\n",
      "                      Specs         Score\n",
      "6                       Spa  1.726733e+06\n",
      "7                    VRDeck  1.573321e+06\n",
      "3               RoomService  1.002141e+06\n",
      "4                 FoodCourt  1.025621e+05\n",
      "8                       num  7.413619e+03\n",
      "5              ShoppingMall  1.616605e+03\n",
      "0                 CryoSleep  1.197498e+03\n",
      "1                       Age  3.421734e+02\n",
      "13        HomePlanet_Europa  2.053869e+02\n",
      "18                   deck_B  1.657797e+02\n",
      "12         HomePlanet_Earth  1.108991e+02\n",
      "19                   deck_C  9.301393e+01\n",
      "9   Destination_55 Cancri e  8.147903e+01\n",
      "21                   deck_E  7.502059e+01\n",
      "15                   side_P  4.613276e+01\n",
      "22                   deck_F  4.542584e+01\n",
      "16                   side_S  4.534145e+01\n",
      "11  Destination_TRAPPIST-1e  2.408388e+01\n",
      "2                       VIP  1.179281e+01\n",
      "20                   deck_D  9.522286e+00\n",
      "Best set of hyperparameters:  {'var_smoothing': 1e-08}\n",
      "Best score:  0.8586476293274498\n",
      "Best set of hyperparameters:  {'var_smoothing': 1.384412223764972e-08}\n",
      "Best score:  0.738183393098556\n"
     ]
    }
   ],
   "source": [
    "model_pipe = Pipeline(\n",
    "    [\n",
    "        (\"feature_selection\", FeatureSelection()),\n",
    "        (\"NullHandler\", NullHandler()),\n",
    "        (\"encoder\", EncodeCatVar()),\n",
    "        (\"hyperparam_finetune\", HyperParamFineTuning()),\n",
    "    ]\n",
    ")\n",
    "\n",
    "model, opt_cols = model_pipe.fit_transform(train)"
   ]
  },
  {
   "cell_type": "code",
   "execution_count": 13,
   "metadata": {},
   "outputs": [],
   "source": [
    "test_pipe = Pipeline(\n",
    "    [\n",
    "        (\"feature_selection\", FeatureSelection()),\n",
    "        (\"NullHandler\", NullHandler()),\n",
    "        (\"encoder\", EncodeCatVar()),\n",
    "    ]\n",
    ")"
   ]
  },
  {
   "cell_type": "code",
   "execution_count": 20,
   "metadata": {},
   "outputs": [
    {
     "name": "stdout",
     "output_type": "stream",
     "text": [
      "Here\n",
      "null handling done !\n"
     ]
    }
   ],
   "source": [
    "# saving the pred results\n",
    "test = pd.read_csv(\"data/Test.csv\")\n",
    "test_df = test_pipe.fit_transform(test)"
   ]
  },
  {
   "cell_type": "code",
   "execution_count": 21,
   "metadata": {},
   "outputs": [],
   "source": [
    "test_df = test_df[opt_cols]"
   ]
  },
  {
   "cell_type": "code",
   "execution_count": 22,
   "metadata": {},
   "outputs": [
    {
     "data": {
      "text/plain": [
       "['models/model7.joblib']"
      ]
     },
     "execution_count": 22,
     "metadata": {},
     "output_type": "execute_result"
    }
   ],
   "source": [
    "y_pred = model.predict(test_df)\n",
    "pred_df = pd.DataFrame({\"PassengerId\": test[\"PassengerId\"], \"Transported\": y_pred})\n",
    "pred_df = pred_df.replace({1: True, 0: False})\n",
    "pred_df.to_csv(\"submissions/submission7.csv\", index=False)\n",
    "joblib.dump(model, \"models/model7.joblib\")"
   ]
  }
 ],
 "metadata": {
  "kernelspec": {
   "display_name": "Python 3",
   "language": "python",
   "name": "python3"
  },
  "language_info": {
   "codemirror_mode": {
    "name": "ipython",
    "version": 3
   },
   "file_extension": ".py",
   "mimetype": "text/x-python",
   "name": "python",
   "nbconvert_exporter": "python",
   "pygments_lexer": "ipython3",
   "version": "3.8.17"
  }
 },
 "nbformat": 4,
 "nbformat_minor": 2
}
